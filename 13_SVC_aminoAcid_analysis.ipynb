{
 "cells": [
  {
   "cell_type": "code",
   "execution_count": 397,
   "id": "82f79cc3",
   "metadata": {},
   "outputs": [
    {
     "name": "stdout",
     "output_type": "stream",
     "text": [
      "1.3.3\n",
      "1.20.3\n",
      "0.24.2\n"
     ]
    }
   ],
   "source": [
    "import pandas as pd\n",
    "import numpy as np\n",
    "import os\n",
    "\n",
    "import sklearn\n",
    "from sklearn.svm import SVC\n",
    "\n",
    "from sklearn.model_selection import GridSearchCV, train_test_split, StratifiedKFold\n",
    "\n",
    "print(pd.__version__)\n",
    "print(np.__version__)\n",
    "print(sklearn.__version__)"
   ]
  },
  {
   "cell_type": "code",
   "execution_count": 247,
   "id": "6a80cefb",
   "metadata": {},
   "outputs": [],
   "source": [
    "#Load amino acid dummies\n",
    "msa_one_hot = pd.read_csv(\"./mouseOR_alignment/fasta_60p_aaIdentity_dummies.csv\", index_col = 0).transpose()\n",
    "#Load categorical responses to odors\n",
    "response_cat_respSub = pd.read_csv(\"./mouseOR_alignment/binary_odor_response.csv\", index_col = 0).transpose()"
   ]
  },
  {
   "cell_type": "code",
   "execution_count": 248,
   "id": "5571b1eb",
   "metadata": {},
   "outputs": [],
   "source": [
    "#Center-scale function for numpy\n",
    "def np_normalize(input_vector):\n",
    "    return((input_vector - input_vector.mean())/((input_vector - input_vector.mean()).std(ddof=1)))"
   ]
  },
  {
   "cell_type": "code",
   "execution_count": 400,
   "id": "8c5df7e0",
   "metadata": {},
   "outputs": [],
   "source": [
    "##Convert to numpy for faster processing\n",
    "#X = np.array(msa_one_hot)\n",
    "#y = np.array(response_cat_respSub)\n",
    "#olfr_arr = np.array(response_cat_respSub.index)\n",
    "#\n",
    "#param_grid = {'C': [0.000001, 0.00001, 0.0001, 0.001, 0.01, 0.1, 1, 10, 100],\n",
    "#              'kernel': ['linear'], 'probability': [True], 'random_state': [42]}\n",
    "#\n",
    "#random_seed_init = 42\n",
    "#total_cycles = 100\n",
    "#\n",
    "#pred_cols = np.array(['Olfr', 'true', 'prediction', 'cid', 'cycle'])\n",
    "#weights_cols = np.array(['position_aa','weight','cycle','cid','C_regularization'])\n",
    "#\n",
    "#all_predictions = pd.DataFrame()\n",
    "#all_weights = pd.DataFrame()\n",
    "#\n",
    "#seed_count = 0\n",
    "#\n",
    "#for cid in range(response_cat_respSub.shape[1]):\n",
    "#    odor_resp = y[:,cid]\n",
    "#    for cycle in range(total_cycles):\n",
    "#        print(\"Odor number:\", cid+1, \",\",\"iteration:\", cycle+1)\n",
    "#        while True:\n",
    "#            X_train, X_test, y_train, y_test, olfr_train, olfr_test = train_test_split(X, odor_resp, olfr_arr,\n",
    "#                                                                                       test_size = 0.1, random_state = random_seed_init+seed_count)\n",
    "#            seed_count = seed_count + 1\n",
    "#            if (y_test.var(ddof = 1) != 0):\n",
    "#                break\n",
    "#        #Identify zero variance column numbers\n",
    "#        zero_var_cols_train = np.where(X_train.var(ddof = 1, axis = 0) == 0)[0]\n",
    "#        zero_var_cols_test = np.where(X_test.var(ddof = 1, axis = 0) == 0)[0]\n",
    "#        zero_var_cols = np.unique(np.concatenate((zero_var_cols_train, zero_var_cols_test)))\n",
    "#        #Drop zero variance features from training/testing/shuffled datasets\n",
    "#        if len(zero_var_cols) > 0:\n",
    "#            X_train = np.delete(X_train, zero_var_cols, axis = 1)\n",
    "#            X_test = np.delete(X_test, zero_var_cols, axis = 1)\n",
    "#        X_train_scaled = np.apply_along_axis(func1d = np_normalize, axis = 0, arr=X_train)\n",
    "#        X_test_scaled = np.apply_along_axis(func1d = np_normalize, axis = 0, arr=X_test)\n",
    "#        optimal_params = GridSearchCV(SVC(),\n",
    "#                                      param_grid,\n",
    "#                                      cv = StratifiedKFold(n_splits=10, shuffle=True,\n",
    "#                                                           random_state=random_seed_init+seed_count),\n",
    "#                                      scoring = 'roc_auc',\n",
    "#                                      refit = True,\n",
    "#                                      n_jobs = 18)\n",
    "#        seed_count = seed_count + 1\n",
    "#        optimal_params.fit(X_train_scaled, y_train)\n",
    "#        y_preds = optimal_params.best_estimator_.predict_proba(X_test_scaled)\n",
    "#        preds = np.hstack([olfr_test.reshape(-1,1),\n",
    "#                           y_test.reshape(-1,1),\n",
    "#                           y_preds[:,1].reshape(-1, 1),\n",
    "#                           np.full((1,olfr_test.shape[0]), response_cat_respSub.columns[cid]).reshape(-1,1),\n",
    "#                           np.full((1,olfr_test.shape[0]), cycle+1).reshape(-1,1)])\n",
    "#        feat_list = np.array(msa_one_hot.drop(msa_one_hot.iloc[:,zero_var_cols].columns, axis = 1).columns)\n",
    "#        coefs = optimal_params.best_estimator_.coef_[0]\n",
    "#        weights = np.hstack([feat_list.reshape(-1,1),\n",
    "#                             coefs.reshape(-1,1),\n",
    "#                             np.full((1,feat_list.shape[0]), cycle+1).reshape(-1,1),\n",
    "#                             np.full((1,feat_list.shape[0]), response_cat_respSub.columns[cid]).reshape(-1,1),\n",
    "#                             np.full((1, feat_list.shape[0]), optimal_params.best_params_['C']).reshape(-1,1)])\n",
    "#        all_predictions = pd.concat([all_predictions, pd.DataFrame(preds)])\n",
    "#        all_weights = pd.concat([all_weights, pd.DataFrame(weights)])\n",
    "#    \n",
    "#    \n",
    "#all_predictions.columns = pred_cols\n",
    "#all_weights.columns = weights_cols\n",
    "#\n",
    "#all_predictions.to_csv(\"./mouseOR_alignment/linear_svc_preds.csv\")\n",
    "#all_weights.to_csv(\"./mouseOR_alignment/linear_svc_weights.csv\")"
   ]
  }
 ],
 "metadata": {
  "kernelspec": {
   "display_name": "Python 3 (ipykernel)",
   "language": "python",
   "name": "python3"
  },
  "language_info": {
   "codemirror_mode": {
    "name": "ipython",
    "version": 3
   },
   "file_extension": ".py",
   "mimetype": "text/x-python",
   "name": "python",
   "nbconvert_exporter": "python",
   "pygments_lexer": "ipython3",
   "version": "3.9.7"
  }
 },
 "nbformat": 4,
 "nbformat_minor": 5
}
