{
 "cells": [
  {
   "cell_type": "code",
   "execution_count": 133,
   "metadata": {},
   "outputs": [
    {
     "name": "stdout",
     "output_type": "stream",
     "text": [
      "1.3.3\n",
      "1.20.3\n",
      "1.7.1\n",
      "2.26.0\n"
     ]
    }
   ],
   "source": [
    "import pandas as pd\n",
    "import numpy as np\n",
    "import scipy\n",
    "\n",
    "from scipy.spatial.distance import squareform, pdist\n",
    "from scipy import stats\n",
    "\n",
    "import statistics\n",
    "import itertools\n",
    "import requests\n",
    "import os\n",
    "import json\n",
    "from time import sleep\n",
    "from subprocess import Popen\n",
    "\n",
    "print(pd.__version__)\n",
    "print(np.__version__)\n",
    "print(scipy.__version__)\n",
    "print(requests.__version__)\n"
   ]
  },
  {
   "cell_type": "code",
   "execution_count": 134,
   "metadata": {},
   "outputs": [
    {
     "name": "stdout",
     "output_type": "stream",
     "text": [
      "4702\n"
     ]
    }
   ],
   "source": [
    "untested_cids = pd.read_csv(\"./cid_info/untested_CID_list.csv\", index_col = 0)\n",
    "untested_cids = untested_cids.iloc[:,0]\n",
    "untested_cids = list(map(str, untested_cids))\n",
    "print(len(untested_cids))"
   ]
  },
  {
   "cell_type": "code",
   "execution_count": 135,
   "metadata": {},
   "outputs": [
    {
     "name": "stdout",
     "output_type": "stream",
     "text": [
      "61\n"
     ]
    }
   ],
   "source": [
    "tested_filename_cid = pd.read_csv(\"./cid_info/filename_cid.csv\")\n",
    "tested_filename_cid = tested_filename_cid.iloc[:,1]\n",
    "tested_filename_cid = list(map(str, tested_filename_cid))\n",
    "\n",
    "tested_cids = []\n",
    "for cid in tested_filename_cid:\n",
    "    if cid not in tested_cids:\n",
    "        tested_cids.append(cid)\n",
    " \n",
    "print(len(tested_cids))"
   ]
  },
  {
   "cell_type": "code",
   "execution_count": 136,
   "metadata": {},
   "outputs": [],
   "source": [
    "untested_sdf = \"./untested_odor_sdf/\"\n",
    "tested_sdf = \"./tested_odor_sdf/\"\n",
    "\n",
    "untested_desc = \"./untested_odor_desc/\"\n",
    "tested_desc = \"./tested_odor_desc/\""
   ]
  },
  {
   "cell_type": "markdown",
   "metadata": {},
   "source": [
    "# Download SDF files from PubChem\n",
    "\n",
    "Uncomment to download"
   ]
  },
  {
   "cell_type": "code",
   "execution_count": 140,
   "metadata": {},
   "outputs": [],
   "source": [
    "#for cid in tested_cids:\n",
    "#    download_url = f'https://pubchem.ncbi.nlm.nih.gov/rest/pug/compound/CID/{cid}/record/SDF/?record_type=3d&response_type=save'\n",
    "#    download_file = requests.get(download_url, allow_redirects=True)\n",
    "#    target_location = os.path.join(tested_sdf, f'{cid}.sdf')\n",
    "#    open(target_location, 'wb').write(download_file.content)\n",
    "#    sleep(0.5) "
   ]
  },
  {
   "cell_type": "code",
   "execution_count": 280,
   "metadata": {},
   "outputs": [],
   "source": [
    "#for cid in untested_cids:\n",
    "#    download_url = f'https://pubchem.ncbi.nlm.nih.gov/rest/pug/compound/CID/{cid}/record/SDF/?record_type=3d&response_type=save'\n",
    "#    download_file = requests.get(download_url, allow_redirects=True)\n",
    "#    target_location = os.path.join(untested_sdf, f'{cid}.sdf')\n",
    "#    open(target_location, 'wb').write(download_file.content)\n",
    "#    sleep(0.5)\n"
   ]
  },
  {
   "cell_type": "markdown",
   "metadata": {},
   "source": [
    "# Run AlvaDesc to calculate descriptors\n",
    "\n",
    "Uncomment to run"
   ]
  },
  {
   "cell_type": "code",
   "execution_count": 142,
   "metadata": {},
   "outputs": [],
   "source": [
    "alvadesc = \"../alvaDesc_Linux_64_v2_0_10/usr/bin/alvaDescCLI\""
   ]
  },
  {
   "cell_type": "code",
   "execution_count": null,
   "metadata": {},
   "outputs": [],
   "source": [
    "#for sdf in os.listdir(tested_sdf):\n",
    "    #in_path = os.path.join(tested_sdf, sdf)\n",
    "    #out_path = os.path.join(tested_desc, sdf.split('.')[0]+\".txt\")\n",
    "    #Popen([alvadesc, \"--input=\"+in_path,\n",
    "    #       \"--descriptors=ALL\",\n",
    "    #       \"--output=\"+out_path,\n",
    "    #       \"--labels\"])\n",
    "    #sleep(0.5)"
   ]
  },
  {
   "cell_type": "code",
   "execution_count": 279,
   "metadata": {},
   "outputs": [],
   "source": [
    "#for sdf in os.listdir(untested_sdf):\n",
    "#    in_path = os.path.join(untested_sdf, sdf)\n",
    "#    out_path = os.path.join(untested_desc, sdf.split('.')[0]+\".txt\")\n",
    "#    Popen([alvadesc, \"--input=\"+in_path,\n",
    "#           \"--descriptors=ALL\",\n",
    "#           \"--output=\"+out_path,\n",
    "#           \"--labels\"])\n",
    "#    sleep(0.5)"
   ]
  },
  {
   "cell_type": "markdown",
   "metadata": {},
   "source": [
    "# Compile descriptors"
   ]
  },
  {
   "cell_type": "code",
   "execution_count": 282,
   "metadata": {},
   "outputs": [],
   "source": [
    "tested_compiled_out = \"./compiled_desc_resp/compiled_tested_desc.txt\"\n",
    "untested_compiled_out = \"./compiled_desc_resp/compiled_untested_desc.txt\""
   ]
  },
  {
   "cell_type": "code",
   "execution_count": 283,
   "metadata": {},
   "outputs": [],
   "source": [
    "#for file in os.listdir(tested_desc):\n",
    "#    file_path = os.path.join(tested_desc, file)\n",
    "#    with open(file_path, 'r') as in_file:\n",
    "#        next(in_file)\n",
    "#        second_line = in_file.readline()\n",
    "#    in_file.close()\n",
    "#    with open(tested_compiled_out, 'a') as out_file:\n",
    "#        out_file.write(second_line)\n",
    "#    out_file.close()"
   ]
  },
  {
   "cell_type": "code",
   "execution_count": 284,
   "metadata": {},
   "outputs": [],
   "source": [
    "#for file in os.listdir(untested_desc):\n",
    "#    file_path = os.path.join(untested_desc, file)\n",
    "#    with open(file_path, 'r') as in_file:\n",
    "#        next(in_file)\n",
    "#        second_line = in_file.readline()\n",
    "#    in_file.close()\n",
    "#    with open(untested_compiled_out, 'a') as out_file:\n",
    "#        out_file.write(second_line)\n",
    "#    out_file.close()"
   ]
  },
  {
   "cell_type": "code",
   "execution_count": 285,
   "metadata": {},
   "outputs": [],
   "source": [
    "#with open(file_path, 'r') as in_file:\n",
    "#    descs = in_file.readline()\n",
    "#in_file.close()\n",
    "#\n",
    "#with open(tested_compiled_out, 'a') as out_file:\n",
    "#    out_file.write(descs)\n",
    "#out_file.close()\n",
    "#\n",
    "#with open(untested_compiled_out, 'a') as out_file:\n",
    "#    out_file.write(descs)\n",
    "#out_file.close()"
   ]
  },
  {
   "cell_type": "code",
   "execution_count": 286,
   "metadata": {},
   "outputs": [],
   "source": [
    "#tested_comp_descs = pd.read_csv(tested_compiled_out, sep='\\t', header=None, dtype = object)\n",
    "#untested_comp_descs = pd.read_csv(untested_compiled_out, sep='\\t', header=None, dtype = object)\n",
    "#\n",
    "#tested_comp_descs.columns = tested_comp_descs.iloc[tested_comp_descs.shape[0]-1,:]\n",
    "#untested_comp_descs.columns = untested_comp_descs.iloc[untested_comp_descs.shape[0]-1,:]\n",
    "#\n",
    "#tested_comp_descs = tested_comp_descs.drop(axis = 0, index = tested_comp_descs.shape[0]-1)\n",
    "#untested_comp_descs = untested_comp_descs.drop(axis = 0, index = untested_comp_descs.shape[0]-1)\n",
    "#\n",
    "#tested_comp_descs = tested_comp_descs.drop(axis = 1, columns = [\"No.\"])\n",
    "#untested_comp_descs = untested_comp_descs.drop(axis = 1, columns = [\"No.\"])\n",
    "#\n",
    "#tested_comp_descs.to_csv(\"./compiled_desc_resp/compiled_tested_desc.csv\")\n",
    "#untested_comp_descs.to_csv(\"./compiled_desc_resp/compiled_untested_desc.csv\")\n",
    "#\n",
    "#tested_comp_descs = pd.read_csv(\"./compiled_desc_resp/compiled_tested_desc.csv\", index_col = 1, dtype = object)\n",
    "#untested_comp_descs = pd.read_csv(\"./compiled_desc_resp/compiled_untested_desc.csv\", index_col = 1, dtype = object)\n",
    "#\n",
    "#tested_comp_descs = tested_comp_descs.drop(axis = 1, columns = [\"Unnamed: 0\"])\n",
    "#untested_comp_descs = untested_comp_descs.drop(axis = 1, columns = [\"Unnamed: 0\"])\n",
    "#\n",
    "#tested_comp_descs.index.name = None\n",
    "#untested_comp_descs.index.name = None\n",
    "#\n",
    "#tested_comp_descs.to_csv(\"./compiled_desc_resp/compiled_tested_desc.csv\")\n",
    "#untested_comp_descs.to_csv(\"./compiled_desc_resp/compiled_untested_desc.csv\")"
   ]
  },
  {
   "cell_type": "markdown",
   "metadata": {},
   "source": [
    "# Preprocess descriptors"
   ]
  },
  {
   "cell_type": "code",
   "execution_count": 322,
   "metadata": {},
   "outputs": [],
   "source": [
    "tested_comp_descs = pd.read_csv(\"./compiled_desc_resp/compiled_tested_desc.csv\", index_col = 0, dtype = object)\n",
    "untested_comp_descs = pd.read_csv(\"./compiled_desc_resp/compiled_untested_desc.csv\", index_col = 0, dtype = object)\n",
    "\n",
    "tested_comp_descs.index = tested_comp_descs.index.map(str)\n",
    "untested_comp_descs.index = untested_comp_descs.index.map(str)"
   ]
  },
  {
   "cell_type": "code",
   "execution_count": 323,
   "metadata": {},
   "outputs": [
    {
     "name": "stdout",
     "output_type": "stream",
     "text": [
      "(4671, 5666)\n"
     ]
    }
   ],
   "source": [
    "untested_comp_descs['MW'] = pd.to_numeric(untested_comp_descs['MW'])\n",
    "#Molecular weight cutoffs from https://www.ncbi.nlm.nih.gov/pmc/articles/PMC4977894/\n",
    "untested_comp_descs = untested_comp_descs[~(untested_comp_descs['MW'] > 402.55)]\n",
    "untested_comp_descs = untested_comp_descs[~(untested_comp_descs['MW'] < 18.02)]\n",
    "print(untested_comp_descs.shape)\n",
    "#(4671, 5666)"
   ]
  },
  {
   "cell_type": "code",
   "execution_count": 324,
   "metadata": {},
   "outputs": [
    {
     "name": "stdout",
     "output_type": "stream",
     "text": [
      "(4732, 4302)\n",
      "(4732, 2660)\n"
     ]
    }
   ],
   "source": [
    "#Recombine tested+untested after removing unwanted odors from untested odors\n",
    "all_comp_descs = pd.concat([tested_comp_descs, untested_comp_descs])\n",
    "#Drop features that have 'na' values from AlvaDesc\n",
    "all_comp_descs = all_comp_descs.loc[:,~all_comp_descs.isin([\"na\"]).any()]\n",
    "print(all_comp_descs.shape)\n",
    "#(4732, 4302)\n",
    "all_comp_descs = all_comp_descs.apply(pd.to_numeric)\n",
    "all_comp_descs = all_comp_descs.loc[:,~(all_comp_descs.var()==0)]\n",
    "print(all_comp_descs.shape)\n",
    "#(4732, 2660)"
   ]
  },
  {
   "cell_type": "code",
   "execution_count": 325,
   "metadata": {},
   "outputs": [
    {
     "name": "stdout",
     "output_type": "stream",
     "text": [
      "(61, 1841)\n",
      "(4732, 1841)\n"
     ]
    }
   ],
   "source": [
    "#Subset the kept features in the tested_desc df\n",
    "tested_comp_descs = tested_comp_descs.loc[:,tested_comp_descs.columns.isin(all_comp_descs.columns)]\n",
    "tested_comp_descs = tested_comp_descs.apply(pd.to_numeric)\n",
    "tested_comp_descs = tested_comp_descs.loc[:,~(tested_comp_descs.var()==0)]\n",
    "print(tested_comp_descs.shape)\n",
    "#(61, 1841)\n",
    "all_comp_descs = all_comp_descs.loc[:,all_comp_descs.columns.isin(tested_comp_descs.columns)]\n",
    "print(all_comp_descs.shape)\n",
    "#(4732, 1841)"
   ]
  },
  {
   "cell_type": "code",
   "execution_count": 326,
   "metadata": {},
   "outputs": [],
   "source": [
    "tested_comp_descs.to_csv(\"./compiled_desc_resp/filtered_tested_desc.csv\")\n",
    "all_comp_descs.to_csv(\"./compiled_desc_resp/filtered_all_desc.csv\")"
   ]
  },
  {
   "cell_type": "code",
   "execution_count": 327,
   "metadata": {},
   "outputs": [],
   "source": [
    "tested_comp_descs = pd.read_csv(\"./compiled_desc_resp/filtered_tested_desc.csv\", index_col = 0)\n",
    "tested_comp_descs = tested_comp_descs.sort_index(axis = 0)\n",
    "all_comp_descs = pd.read_csv(\"./compiled_desc_resp/filtered_all_desc.csv\", index_col = 0)"
   ]
  },
  {
   "cell_type": "code",
   "execution_count": 328,
   "metadata": {},
   "outputs": [],
   "source": [
    "filename_cid = pd.read_csv(\"./cid_info/filename_cid.csv\", index_col = 0)\n",
    "filename_cid = filename_cid.to_dict(orient='index')\n",
    "\n",
    "ps6_dir = \"./olfr_de\""
   ]
  },
  {
   "cell_type": "code",
   "execution_count": 329,
   "metadata": {},
   "outputs": [],
   "source": [
    "odor_test_count = {}\n",
    "\n",
    "for base_name in filename_cid:\n",
    "    split_name = base_name.split('_')[2:]\n",
    "    odor_name = split_name[1].split('.')[0]\n",
    "    if odor_name not in odor_test_count:\n",
    "        odor_test_count[odor_name] = 0\n",
    "    odor_test_count[odor_name] += 1\n",
    "    \n",
    "    multi_conc_tested = {}\n",
    "\n",
    "for ps6ip_file in os.listdir(ps6_dir):\n",
    "    conc_odor = ps6ip_file.split('_')[2:]\n",
    "    conc = conc_odor[0]\n",
    "    odor_name = conc_odor[1].split('.')[0]\n",
    "    if odor_test_count[odor_name] > 1:\n",
    "        ps6ip_file = os.path.join(ps6_dir, ps6ip_file)\n",
    "        df = pd.read_csv(ps6ip_file, index_col = 0)\n",
    "        if odor_name not in multi_conc_tested:\n",
    "            multi_conc_tested[odor_name] = {}\n",
    "        multi_conc_tested[odor_name][conc] = df\n",
    "        \n",
    "multi_conc_activation = {}\n",
    "\n",
    "for odor in multi_conc_tested:\n",
    "    if odor not in multi_conc_activation:\n",
    "        multi_conc_activation[odor] = {}\n",
    "    for conc in multi_conc_tested[odor]:\n",
    "        df = multi_conc_tested[odor][conc]\n",
    "        sig_or_count = df[(df.logFC > 0) & (df.FDR < 0.05)].shape[0]\n",
    "        multi_conc_activation[odor][conc] = sig_or_count\n",
    "       "
   ]
  },
  {
   "cell_type": "code",
   "execution_count": 330,
   "metadata": {},
   "outputs": [
    {
     "name": "stdout",
     "output_type": "stream",
     "text": [
      "No responsive ORs: 5281515\n",
      "No responsive ORs: 1068\n",
      "No responsive ORs: 637566\n",
      "No responsive ORs: 798\n",
      "No responsive ORs: 443163\n",
      "No responsive ORs: 89755\n",
      "No responsive ORs: 1032\n",
      "No responsive ORs: 6852393\n",
      "OR response count > 5 stdev: 8375\n"
     ]
    }
   ],
   "source": [
    "tested_resp = {}\n",
    "sigOR_dict = {}\n",
    "\n",
    "for odor in odor_test_count:\n",
    "    #Pick out concentration for odors tested at multiple concentrations\n",
    "    if odor_test_count[odor] > 1:\n",
    "        fewest_or_conc = min(multi_conc_activation[odor], key=multi_conc_activation[odor].get)\n",
    "        filename = \"pS6_DE_\"+fewest_or_conc+\"_\"+odor+\".csv\"\n",
    "    else:\n",
    "    #Rest which are tested at a single concentration\n",
    "        for base_file in os.listdir(ps6_dir):\n",
    "            odor_name = base_file.split('_')[3].split('.')[0]\n",
    "            if odor == odor_name:\n",
    "                filename = base_file\n",
    "    file_path = os.path.join(ps6_dir, filename)\n",
    "    cid = str(filename_cid[filename]['cid'])\n",
    "    df = pd.read_csv(file_path, index_col = 0)\n",
    "    df = df.loc[:,['symbol','logFC','FDR']]\n",
    "    df = df.sort_values(by=['symbol'])\n",
    "    df = df.reset_index(drop=True)\n",
    "    #Set criteria for determining significant response\n",
    "    sigOR_count = df[(df.logFC > 0) & (df.FDR < 0.05)].shape[0]\n",
    "    if sigOR_count == 0:\n",
    "        #Uncomment following line if running for first time\n",
    "        tested_comp_descs = tested_comp_descs.drop([int(cid)])\n",
    "        print(\"No responsive ORs:\", cid)\n",
    "    sigOR_dict[odor] = sigOR_count\n",
    "    df0 = df.copy(deep=True)\n",
    "    #Set criteria for determining non-significant response\n",
    "    df0.loc[(df0.logFC <= 0) | (df0.FDR >= 0.05),'logFC'] = 0\n",
    "    df.columns = df.columns+\"_\"+cid\n",
    "    df0.columns = df0.columns+\"_\"+cid\n",
    "    if cid not in tested_resp:\n",
    "        tested_resp[cid] = {}\n",
    "    tested_resp[cid]['orig'] = df\n",
    "    tested_resp[cid]['zero'] = df0\n",
    "#Determine mean & stdev of number of responsive receptors per odor\n",
    "resp_dist = []\n",
    "for odor in sigOR_dict:\n",
    "    resp_dist.append(sigOR_dict[odor])\n",
    "resp_cutoff = statistics.mean(resp_dist)+(5*statistics.stdev(resp_dist))\n",
    "#Don't consider odors with activated OR # > 5 stdev (resp_cutoff)\n",
    "for odor in sigOR_dict:\n",
    "    if sigOR_dict[odor] > resp_cutoff:\n",
    "        for base_file in os.listdir(ps6_dir):\n",
    "            odor_name = base_file.split('_')[3].split('.')[0]\n",
    "            if odor == odor_name:\n",
    "                filename = base_file\n",
    "                cid = filename_cid[filename]['cid']\n",
    "                #Uncomment following line if running for first time\n",
    "                tested_comp_descs = tested_comp_descs.drop([int(cid)])\n",
    "                print(\"OR response count > 5 stdev:\", cid)\n",
    "trueResponse_df = pd.DataFrame()\n",
    "zerodResponse_df = pd.DataFrame()\n",
    "#Compile dictionary into logFC df\n",
    "for cid in tested_comp_descs.index.values:\n",
    "    df = tested_resp[str(cid)]['orig']\n",
    "    df0 = tested_resp[str(cid)]['zero']\n",
    "    trueResponse_df = pd.concat([trueResponse_df, df.iloc[:,1]], axis = 1)\n",
    "    zerodResponse_df = pd.concat([zerodResponse_df, df0.iloc[:,1]], axis = 1)\n",
    "#Change index to Olfr IDs\n",
    "trueResponse_df.index = df.iloc[:,0].values\n",
    "zerodResponse_df.index = df.iloc[:,0].values\n",
    "#Drop non-responding receptors\n",
    "zerodResponse_df = zerodResponse_df[~(zerodResponse_df.var(axis = 1) == 0)]\n",
    "#Convert to dictionary\n",
    "trueResponse_dict = trueResponse_df.to_dict()\n",
    "zerodResponse_dict = zerodResponse_df.to_dict()\n",
    "#Restore responses to de-orphaned Olfrs\n",
    "for cid in zerodResponse_dict:\n",
    "    for olfr in zerodResponse_dict[cid]:\n",
    "        if zerodResponse_dict[cid][olfr] == 0:\n",
    "            zerodResponse_dict[cid][olfr] = trueResponse_dict[cid][olfr]\n",
    "logFC_restored = pd.DataFrame.from_dict(zerodResponse_dict)\n",
    "logFC_restored = logFC_restored.transpose()\n",
    "indices_nm = logFC_restored.index.values.tolist()\n",
    "indices_nm = [i.split('_', 1)[1] for i in indices_nm]\n",
    "indices_nm = list(map(int, indices_nm))\n",
    "logFC_restored.index = indices_nm\n",
    "#Sort index so that it matches descriptors\n",
    "logFC_restored = logFC_restored.sort_index(axis = 0)\n",
    "#Save logFC restored\n",
    "#logFC_restored.to_csv(\"./compiled_desc_resp/compiled_odor_sigResp_wide.csv\")\n",
    "#Update descs\n",
    "tested_comp_descs = tested_comp_descs.loc[:,-(tested_comp_descs.var() == 0)]\n",
    "all_comp_descs = all_comp_descs.loc[:,all_comp_descs.columns.isin(tested_comp_descs.columns)]\n",
    "#tested_comp_descs.to_csv(\"./compiled_desc_resp/filtered_tested_desc.csv\")\n",
    "#all_comp_descs.to_csv(\"./compiled_desc_resp/filtered_all_desc.csv\")"
   ]
  },
  {
   "cell_type": "markdown",
   "metadata": {},
   "source": [
    "# Olfr * Feature analysis"
   ]
  },
  {
   "cell_type": "code",
   "execution_count": 332,
   "metadata": {},
   "outputs": [],
   "source": [
    "tested_odor_desc = pd.read_csv(\"./compiled_desc_resp/filtered_tested_desc.csv\", index_col = 0)\n",
    "tested_odor_resp = pd.read_csv(\"./compiled_desc_resp/compiled_odor_sigResp_wide.csv\", index_col = 0)\n"
   ]
  },
  {
   "cell_type": "code",
   "execution_count": 336,
   "metadata": {},
   "outputs": [],
   "source": [
    "#Function to zero center and scale data\n",
    "def normalize(x):\n",
    "    return (x - x.mean())/(x - x.mean()).std()"
   ]
  },
  {
   "cell_type": "code",
   "execution_count": 337,
   "metadata": {},
   "outputs": [],
   "source": [
    "#Center-scale responses and descriptors by odors\n",
    "norm_tested_desc = tested_odor_desc.transform(normalize, axis = 0)\n",
    "norm_tested_resp = tested_odor_resp.transform(normalize, axis = 0)\n",
    "#Compute Pearson correlation values\n",
    "nOdors = norm_tested_resp.shape[0]\n",
    "olfr_feat_pc = (norm_tested_resp.transpose() @ norm_tested_desc)/nOdors\n",
    "#Compute t-statistic\n",
    "num_val = olfr_feat_pc*np.sqrt(nOdors-2)\n",
    "denom_val = np.sqrt(1 - (olfr_feat_pc**2))\n",
    "olfr_feat_tStat = num_val/denom_val\n",
    "#Calculate p-values\n",
    "olfr_feat_pVal = stats.t.sf(abs(olfr_feat_tStat), nOdors-1)*2\n",
    "olfr_feat_pVal = pd.DataFrame(olfr_feat_pVal)\n",
    "olfr_feat_pVal.columns = norm_tested_desc.columns\n",
    "olfr_feat_pVal = olfr_feat_pVal.set_index(norm_tested_resp.transpose().index)\n",
    "#Melt data\n",
    "olfr_feat_pc = olfr_feat_pc.reset_index().melt('index')\n",
    "olfr_feat_pc.columns = ['Olfr','feature','pcorr']\n",
    "olfr_feat_tStat = olfr_feat_tStat.reset_index().melt('index')\n",
    "olfr_feat_tStat.columns = ['Olfr','feature','tStat']\n",
    "olfr_feat_pVal = olfr_feat_pVal.reset_index().melt('index')\n",
    "olfr_feat_pVal.columns = ['Olfr','feature','pVal']\n",
    "#Compile data into a single df\n",
    "olfr_feat_stats = pd.concat([olfr_feat_pc,\n",
    "                             olfr_feat_tStat.loc[:,\"tStat\"],\n",
    "                             olfr_feat_pVal.loc[:,\"pVal\"]],\n",
    "                             axis = 1)\n",
    "#Calculate distances\n",
    "norm_tested_resp_dist_euc = pd.DataFrame(pdist(norm_tested_resp, 'euclidean'))\n",
    "norm_tested_desc_dist_euc = pd.DataFrame(pdist(norm_tested_desc, 'euclidean'))\n",
    "norm_tested_resp_dist_corr = pd.DataFrame(pdist(norm_tested_resp, 'correlation'))\n",
    "norm_tested_desc_dist_corr = pd.DataFrame(pdist(norm_tested_desc, 'correlation'))\n",
    "norm_tested_resp_dist_cos = pd.DataFrame(pdist(norm_tested_resp, 'cosine'))\n",
    "norm_tested_desc_dist_cos = pd.DataFrame(pdist(norm_tested_desc, 'cosine'))\n",
    "#Combine distances\n",
    "odor_combns = pd.DataFrame(itertools.combinations(norm_tested_resp.index.values, 2))\n",
    "odor_combns = pd.concat([odor_combns, norm_tested_resp_dist_euc,\n",
    "                         norm_tested_desc_dist_euc,norm_tested_resp_dist_corr,\n",
    "                         norm_tested_desc_dist_corr,norm_tested_resp_dist_cos,\n",
    "                         norm_tested_desc_dist_cos], axis = 1)\n",
    "odor_combns.columns = ['odor1','odor2',\n",
    "                       'response_euc_distance','feature_euc_distance',\n",
    "                       'response_corr_distance','feature_corr_distance',\n",
    "                       'response_cos_distance','feature_cos_distance']\n",
    "#olfr_feat_stats.to_csv(\"./compiled_desc_resp/odor_response_stats.csv\")\n",
    "#odor_combns.to_csv(\"./compiled_desc_resp/odor_resp_distances.csv\")"
   ]
  },
  {
   "cell_type": "code",
   "execution_count": 340,
   "metadata": {},
   "outputs": [],
   "source": [
    "compiled_ps6_data = pd.DataFrame()\n",
    "\n",
    "for cid in tested_odor_desc.index.values:\n",
    "    df = tested_resp[str(cid)]['orig']\n",
    "    df.columns = ['symbol','logFC','FDR']\n",
    "    df['cid'] = cid\n",
    "    df = df.loc[df['symbol'].isin(tested_odor_resp.columns.values),:]\n",
    "    df = df.reset_index(drop=True)\n",
    "    compiled_ps6_data = pd.concat([compiled_ps6_data, df], axis = 0)\n",
    "compiled_ps6_data = compiled_ps6_data.reset_index(drop=True)\n",
    "#compiled_ps6_data.to_csv(\"./compiled_desc_resp/compiled_odor_sigResp_long.csv\")"
   ]
  },
  {
   "cell_type": "code",
   "execution_count": 350,
   "metadata": {},
   "outputs": [],
   "source": [
    "odorinfo = pd.read_csv(\"./cid_info/cid_odornames.csv\", index_col = 0)\n",
    "#Calculate pairwise odor similarity and shared # of responding receptors\n",
    "t_tested_odor_resp = tested_odor_resp.transpose()\n",
    "t_tested_odor_resp = t_tested_odor_resp.transform(normalize)\n",
    "cor_matrix = t_tested_odor_resp.corr()\n",
    "cor_matrix = 1 - cor_matrix\n",
    "cor_matrix = cor_matrix.where(np.triu(np.ones(cor_matrix.shape)).astype(bool))\n",
    "cor_matrix = cor_matrix.stack().reset_index()\n",
    "cor_matrix.columns = ['odor1','odor2','pearson_corr_dist']\n",
    "cor_matrix = cor_matrix[cor_matrix['pearson_corr_dist'] != 0]\n",
    "resp_list = []\n",
    "o1_names_list = []\n",
    "o2_names_list = []\n",
    "for i in range(cor_matrix.shape[0]):\n",
    "    o1 = str(int(cor_matrix.iloc[i,:]['odor1']))\n",
    "    o2 = str(int(cor_matrix.iloc[i,:]['odor2']))\n",
    "    o1_df = tested_resp[o1]['orig']\n",
    "    o2_df = tested_resp[o2]['orig']\n",
    "    o1_rec = o1_df[(o1_df.iloc[:,1] > 0) & (o1_df.iloc[:,2] < 0.05)].iloc[:,0].values.tolist()\n",
    "    o2_rec = o2_df[(o2_df.iloc[:,1] > 0) & (o2_df.iloc[:,2] < 0.05)].iloc[:,0].values.tolist()\n",
    "    o1_name = odorinfo[odorinfo['cid'] == int(o1)]['odor_list'].values[0]\n",
    "    o2_name = odorinfo[odorinfo['cid'] == int(o2)]['odor_list'].values[0]\n",
    "    o1_names_list.append(o1_name)\n",
    "    o2_names_list.append(o2_name)\n",
    "    o1_as_set = set(o1_rec)\n",
    "    intersection = o1_as_set.intersection(o2_rec)\n",
    "    intersection_as_list = list(intersection)\n",
    "    resp_list.append(len(intersection_as_list))\n",
    "cor_matrix['o1_name'] = o1_names_list\n",
    "cor_matrix['o2_name'] = o2_names_list\n",
    "cor_matrix['shared_receptor_count'] = resp_list\n",
    "#cor_matrix.to_csv(\"./compiled_desc_resp/odor_response_similarities.csv\")"
   ]
  },
  {
   "cell_type": "markdown",
   "metadata": {},
   "source": [
    "# Compile full pS6-IP-Seq dataset"
   ]
  },
  {
   "cell_type": "code",
   "execution_count": 353,
   "metadata": {},
   "outputs": [],
   "source": [
    "#olfr_de_dir = \"./olfr_de/\"\n",
    "#\n",
    "#full_compiled_ps6 = pd.DataFrame()\n",
    "#\n",
    "#for file in os.listdir(olfr_de_dir):\n",
    "#    conc = file.split('_')[2]\n",
    "#    odor = file.split('_')[3].split('.')[0]\n",
    "#    conc_odor = str(conc+\"_\"+odor)\n",
    "#    file_path = os.path.join(olfr_de_dir, file)\n",
    "#    read_df = pd.read_csv(file_path, index_col = 0)\n",
    "#    read_df = read_df.iloc[:,[1,5,12]]\n",
    "#    read_df = read_df.sort_values('symbol')\n",
    "#    read_df.columns = read_df.add_prefix(conc_odor+'_').columns.tolist()\n",
    "#    read_df = read_df.reset_index(drop=True)\n",
    "#    full_compiled_ps6 = pd.concat([full_compiled_ps6, read_df], axis = 1)\n",
    "#    \n",
    "#sig_full_ps6 = pd.DataFrame()\n",
    "#for i in range(full_compiled_ps6.shape[0]):\n",
    "#    for j in range(0,len(full_compiled_ps6.iloc[i,:]),3):\n",
    "#        if (full_compiled_ps6.iloc[i,:][j] > 0) & (full_compiled_ps6.iloc[i,:][j+1] < 0.05):\n",
    "#            sig_full_ps6 = pd.concat([sig_full_ps6, full_compiled_ps6.iloc[i,:]], axis = 1)\n",
    "#            break\n",
    "#            \n",
    "#sig_full_ps6 = sig_full_ps6.transpose()\n",
    "#sig_full_ps6.index = sig_full_ps6.iloc[:,2]\n",
    "#sig_full_ps6.index.name = None\n",
    "#\n",
    "#drop_cols = []\n",
    "#for i in range(0,sig_full_ps6.shape[1],3):\n",
    "#    drop_cols.append(i+1)\n",
    "#    drop_cols.append(i+2)\n",
    "#sig_full_ps6.drop(sig_full_ps6.columns[drop_cols],axis=1,inplace=True)\n",
    "#\n",
    "#sig_full_ps6.to_csv(\"./compiled_desc_resp/compiled_allOdor_sigResp_wide.csv\")\n",
    "sig_full_ps6 = pd.read_csv(\"./compiled_desc_resp/compiled_allOdor_sigResp_wide.csv\", index_col = 0)"
   ]
  }
 ],
 "metadata": {
  "kernelspec": {
   "display_name": "Python 3 (ipykernel)",
   "language": "python",
   "name": "python3"
  },
  "language_info": {
   "codemirror_mode": {
    "name": "ipython",
    "version": 3
   },
   "file_extension": ".py",
   "mimetype": "text/x-python",
   "name": "python",
   "nbconvert_exporter": "python",
   "pygments_lexer": "ipython3",
   "version": "3.9.7"
  }
 },
 "nbformat": 4,
 "nbformat_minor": 4
}
