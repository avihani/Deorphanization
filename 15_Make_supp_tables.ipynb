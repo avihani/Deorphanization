{
 "cells": [
  {
   "cell_type": "code",
   "execution_count": 1,
   "id": "3b69f040",
   "metadata": {
    "scrolled": true
   },
   "outputs": [
    {
     "name": "stdout",
     "output_type": "stream",
     "text": [
      "1.3.3\n",
      "1.20.3\n",
      "0.24.2\n",
      "1.7.1\n"
     ]
    }
   ],
   "source": [
    "import pandas as pd\n",
    "import numpy as np\n",
    "import itertools\n",
    "\n",
    "import sklearn\n",
    "import scipy\n",
    "\n",
    "from scipy.spatial.distance import pdist\n",
    "from sklearn.metrics import roc_curve, auc\n",
    "\n",
    "print(pd.__version__)\n",
    "#1.3.3\n",
    "print(np.__version__)\n",
    "#1.20.3\n",
    "print(sklearn.__version__)\n",
    "#0.24.2\n",
    "print(scipy.__version__)\n",
    "#1.7.1"
   ]
  },
  {
   "cell_type": "markdown",
   "id": "0b90d4fa",
   "metadata": {},
   "source": [
    "# Supp table 1"
   ]
  },
  {
   "cell_type": "code",
   "execution_count": 123,
   "id": "67cc998c",
   "metadata": {},
   "outputs": [],
   "source": [
    "#opt_descs = pd.read_csv(\"./compiled_desc_resp/well_predicted_desc.csv\", index_col = 0)\n",
    "#alva = pd.read_csv(\"./compiled_desc_resp/AlvaDesc_descriptors.csv\", index_col = 0)\n",
    "#\n",
    "#\n",
    "#s1_tbl = pd.DataFrame()\n",
    "#for desc in opt_descs.columns:\n",
    "#    long = alva[alva['Abbrev'] == desc]['Long'].values[0]\n",
    "#    cat = alva[alva['Abbrev'] == desc]['Category'].values[0]\n",
    "#    temp = pd.DataFrame([desc,long, cat]).transpose()\n",
    "#    s1_tbl = pd.concat([s1_tbl, temp])\n",
    "#\n",
    "#s1_tbl = s1_tbl.reset_index(drop=True)\n",
    "#s1_tbl.columns = ['Abbrev','Long_name','Category']  \n",
    "#s1_tbl.to_csv(\"./supp_tables/Supplementary_table_1_OptDescs.csv\")\n",
    "s1_tbl = pd.read_csv(\"./supp_tables/Supplementary_table_1_OptDescs.csv\", index_col = 0)  \n"
   ]
  },
  {
   "cell_type": "markdown",
   "id": "ae4a0197",
   "metadata": {},
   "source": [
    "# Supp table 2"
   ]
  },
  {
   "cell_type": "code",
   "execution_count": 57,
   "id": "29ab6937",
   "metadata": {},
   "outputs": [],
   "source": [
    "#odor_cid_info = pd.read_csv(\"./cid_info/cid_odornames.csv\", index_col = 0)\n",
    "#log_reg_data = pd.read_csv(\"./mouseOR_alignment/log_reg_auroc.csv\", index_col = 0)\n",
    "#log_reg_data.columns = ['PubChem CID', 'AUROC Lambda_min', 'AUROC Lambda_1se']\n",
    "#\n",
    "#for odor in log_reg_data['PubChem CID']:\n",
    "#    o_name = odor_cid_info[odor_cid_info['cid'] == odor]['name'].values[0]\n",
    "#    log_reg_data.loc[log_reg_data['PubChem CID'] == odor,'Odor'] = o_name\n",
    "#    \n",
    "#log_reg_data = log_reg_data.sort_values(by='AUROC Lambda_1se', ascending=False)\n",
    "#log_reg_data = log_reg_data.iloc[:,[3,0,2]]\n",
    "#log_reg_data.index = range(1, log_reg_data.shape[0]+1, 1)\n",
    "#log_reg_data.to_csv(\"./supp_tables/Supplementary_table_2_LogReg.csv\")\n",
    "\n",
    "log_reg_data = pd.read_csv(\"./supp_tables/Supplementary_table_2_LogReg.csv\", index_col = 0)"
   ]
  },
  {
   "cell_type": "markdown",
   "id": "b7a6fe19",
   "metadata": {},
   "source": [
    "# Supp table 3"
   ]
  },
  {
   "cell_type": "code",
   "execution_count": 67,
   "id": "d28b5266",
   "metadata": {},
   "outputs": [],
   "source": [
    "#odor_cid_info = pd.read_csv(\"./cid_info/cid_odornames.csv\", index_col = 0)\n",
    "#linear_svc = pd.read_csv(\"./mouseOR_alignment/linear_svc_auc.csv\", index_col = 0)\n",
    "#linear_svc.columns = ['PubChem CID', 'SVC AUROC']\n",
    "#for odor in linear_svc['PubChem CID']:\n",
    "#    o_name = odor_cid_info[odor_cid_info['cid'] == odor]['name'].values[0]\n",
    "#    linear_svc.loc[linear_svc['PubChem CID'] == odor,'Odor'] = o_name\n",
    "#linear_svc = linear_svc.sort_values(by='SVC AUROC', ascending=False)\n",
    "#linear_svc.index = range(1, linear_svc.shape[0]+1, 1)\n",
    "#linear_svc.to_csv(\"./supp_tables/Supplementary_table_3_LinearSVC.csv\")\n",
    "linear_svc = pd.read_csv(\"./supp_tables/Supplementary_table_3_LinearSVC.csv\", index_col = 0)"
   ]
  }
 ],
 "metadata": {
  "kernelspec": {
   "display_name": "Python 3 (ipykernel)",
   "language": "python",
   "name": "python3"
  },
  "language_info": {
   "codemirror_mode": {
    "name": "ipython",
    "version": 3
   },
   "file_extension": ".py",
   "mimetype": "text/x-python",
   "name": "python",
   "nbconvert_exporter": "python",
   "pygments_lexer": "ipython3",
   "version": "3.9.7"
  }
 },
 "nbformat": 4,
 "nbformat_minor": 5
}
