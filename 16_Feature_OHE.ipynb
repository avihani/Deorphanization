{
 "cells": [
  {
   "cell_type": "code",
   "execution_count": 3,
   "id": "7ce06769",
   "metadata": {},
   "outputs": [],
   "source": [
    "import pandas as pd\n",
    "import numpy as np\n",
    "\n",
    "import itertools\n",
    "\n",
    "from scipy.spatial.distance import pdist\n",
    "from sklearn.svm import SVC, SVR\n",
    "from sklearn.metrics import roc_curve, auc\n",
    "from sklearn.model_selection import GridSearchCV, StratifiedKFold, KFold\n",
    "from sklearn.preprocessing import StandardScaler"
   ]
  },
  {
   "cell_type": "code",
   "execution_count": 3,
   "id": "30400624",
   "metadata": {},
   "outputs": [],
   "source": [
    "tested_odor_desc = pd.read_csv(\"./compiled_desc_resp/filtered_tested_desc.csv\", index_col = 0)\n",
    "tested_odor_resp = pd.read_csv(\"./compiled_desc_resp/compiled_odor_sigResp_wide.csv\", index_col = 0)"
   ]
  },
  {
   "cell_type": "code",
   "execution_count": 6,
   "id": "e84929d3",
   "metadata": {},
   "outputs": [],
   "source": [
    "feature_df = pd.DataFrame()\n",
    "\n",
    "for feature in tested_odor_desc.columns:\n",
    "    df = tested_odor_desc.loc[:,feature].copy(deep=True)\n",
    "    unique_value_count = df.nunique()\n",
    "    zero_count = df[df == 0].shape[0]\n",
    "    if (zero_count > 0) & (unique_value_count < 52):\n",
    "        feature_df = pd.concat([feature_df, df], axis = 1)\n",
    "\n",
    "feature_df_binary = pd.DataFrame()\n",
    "\n",
    "for feature in feature_df.columns:\n",
    "    df = feature_df.loc[:,feature].copy(deep=True)\n",
    "    df[df != 0] = 1\n",
    "    feature_df_binary = pd.concat([feature_df_binary, df], axis = 1)"
   ]
  },
  {
   "cell_type": "code",
   "execution_count": 7,
   "id": "7cd60479",
   "metadata": {},
   "outputs": [
    {
     "name": "stdout",
     "output_type": "stream",
     "text": [
      "(52, 822)\n",
      "(52, 763)\n"
     ]
    }
   ],
   "source": [
    "feature_df_binary = feature_df_binary.loc[:,feature_df_binary.sum(axis = 0) > 1]\n",
    "print(feature_df_binary.shape)\n",
    "#(52, 822)\n",
    "feature_df_binary = feature_df_binary.loc[:,feature_df_binary.sum(axis = 0) < (feature_df_binary.shape[0]-1)]\n",
    "print(feature_df_binary.shape)\n",
    "#(52, 763)"
   ]
  },
  {
   "cell_type": "code",
   "execution_count": 8,
   "id": "1a9b43e1",
   "metadata": {},
   "outputs": [
    {
     "name": "stdout",
     "output_type": "stream",
     "text": [
      "(52, 763)\n"
     ]
    }
   ],
   "source": [
    "tested_odor_desc_for_ohe = tested_odor_desc.loc[:,feature_df_binary.columns]\n",
    "print(tested_odor_desc_for_ohe.shape)"
   ]
  },
  {
   "cell_type": "code",
   "execution_count": 10,
   "id": "522ac00e",
   "metadata": {},
   "outputs": [],
   "source": [
    "def remove_corr_feats(input_df):\n",
    "    dropped_features = np.empty(shape = (0,), dtype = object)\n",
    "    dropped_correlates_concat = np.empty(shape = (0,2), dtype = object)\n",
    "    input_arr = np.array(input_df)\n",
    "    feature_names = np.array(input_df.columns)\n",
    "    odor_cid = np.array(input_df.index)\n",
    "    feature_corr_dist = pdist(input_arr.T, metric='correlation')\n",
    "    corr_feat_count = np.where(feature_corr_dist==0)[0]\n",
    "    while len(corr_feat_count) != 0:\n",
    "        pw_comparisons = np.triu_indices(len(feature_names), 1)\n",
    "        indices_to_drop = pw_comparisons[1][np.where(feature_corr_dist == 0)[0]]\n",
    "        features_to_drop = np.unique(feature_names[indices_to_drop])\n",
    "        dropped_features = np.concatenate((dropped_features, features_to_drop))\n",
    "        dropped_correlates = np.stack((feature_names[pw_comparisons[0][np.where(feature_corr_dist == 0)]], \n",
    "                                       feature_names[pw_comparisons[1][np.where(feature_corr_dist == 0)]]),\n",
    "                                       axis = 1)\n",
    "        dropped_correlates_concat = np.concatenate((dropped_correlates_concat, dropped_correlates))\n",
    "        unique_indices_to_drop = np.where(np.in1d(feature_names, features_to_drop))[0]\n",
    "        input_arr = np.delete(input_arr, unique_indices_to_drop, axis = 1)\n",
    "        feature_names = np.delete(feature_names, unique_indices_to_drop)\n",
    "        input_df = pd.DataFrame(input_arr)\n",
    "        input_df.columns = feature_names\n",
    "        input_df.index = odor_cid\n",
    "        input_arr = np.array(input_df)\n",
    "        feature_names = np.array(input_df.columns)\n",
    "        odor_cid = np.array(input_df.index)\n",
    "        feature_corr_dist = pdist(input_arr.T, metric='correlation')\n",
    "        corr_feat_count = np.where(feature_corr_dist ==0)[0]\n",
    "    output_df = input_df.copy(deep=True)\n",
    "    return output_df, dropped_features, dropped_correlates_concat"
   ]
  },
  {
   "cell_type": "code",
   "execution_count": 15,
   "id": "571dd2f2",
   "metadata": {},
   "outputs": [
    {
     "name": "stdout",
     "output_type": "stream",
     "text": [
      "(52, 684)\n"
     ]
    }
   ],
   "source": [
    "tested_odor_desc_decorr, tested_odor_desc_dropped, tested_odor_desc_correlated = remove_corr_feats(tested_odor_desc_for_ohe)\n",
    "print(tested_odor_desc_decorr.shape)\n",
    "#(52, 684)"
   ]
  },
  {
   "cell_type": "code",
   "execution_count": 16,
   "id": "f65b5a8d",
   "metadata": {},
   "outputs": [
    {
     "name": "stdout",
     "output_type": "stream",
     "text": [
      "(52, 2193)\n"
     ]
    }
   ],
   "source": [
    "tested_odor_desc_decorr = tested_odor_desc_decorr.astype(str)\n",
    "tested_odor_desc_decorr_ohe = pd.get_dummies(tested_odor_desc_decorr)\n",
    "tested_odor_desc_decorr_ohe = tested_odor_desc_decorr_ohe.loc[:,tested_odor_desc_decorr_ohe.sum(axis = 0) != 1]\n",
    "print(tested_odor_desc_decorr_ohe.shape)\n",
    "#(52, 2193)"
   ]
  },
  {
   "cell_type": "code",
   "execution_count": 17,
   "id": "7755ee3e",
   "metadata": {},
   "outputs": [
    {
     "name": "stdout",
     "output_type": "stream",
     "text": [
      "(52, 1050)\n"
     ]
    }
   ],
   "source": [
    "tested_odor_desc_decorr2, tested_odor_desc_dropped2, tested_odor_desc_correlated2 = remove_corr_feats(tested_odor_desc_decorr_ohe)\n",
    "print(tested_odor_desc_decorr2.shape)"
   ]
  },
  {
   "cell_type": "code",
   "execution_count": 126,
   "id": "46f01184",
   "metadata": {},
   "outputs": [
    {
     "data": {
      "text/plain": [
       "array([['P_VSA_LogP_4_10.8184292306614', 'nSH_1.0'],\n",
       "       ['P_VSA_s_6_38.563628990611', 'nSH_1.0'],\n",
       "       ['P_VSA_charge_10_10.8184292306614', 'nSH_1.0']], dtype=object)"
      ]
     },
     "execution_count": 126,
     "metadata": {},
     "output_type": "execute_result"
    }
   ],
   "source": [
    "tested_odor_desc_correlated2[np.where(tested_odor_desc_correlated2.T[1] == 'nSH_1.0')]"
   ]
  },
  {
   "cell_type": "code",
   "execution_count": 21,
   "id": "59768006",
   "metadata": {},
   "outputs": [
    {
     "name": "stdout",
     "output_type": "stream",
     "text": [
      "(52, 1050)\n",
      "(52, 375)\n"
     ]
    }
   ],
   "source": [
    "tested_odor_desc_decorr2_arr = np.array(tested_odor_desc_decorr2)\n",
    "tested_odor_resp_arr = np.array(tested_odor_resp)\n",
    "print(tested_odor_desc_decorr2_arr.shape)\n",
    "print(tested_odor_resp_arr.shape)"
   ]
  },
  {
   "cell_type": "code",
   "execution_count": 30,
   "id": "d4c25e57",
   "metadata": {},
   "outputs": [],
   "source": [
    "#x = tested_odor_resp_arr\n",
    "#features = np.array(tested_odor_desc_decorr2.columns)\n",
    "#full_preds = pd.DataFrame()\n",
    "#pred_auroc = pd.DataFrame()\n",
    "#\n",
    "#for i in range(tested_odor_desc_decorr2_arr.shape[1]):\n",
    "#    print(i)\n",
    "#    y = tested_odor_desc_decorr2_arr.T[i]\n",
    "#    yout_compiled = np.empty(shape=(y.shape[0],2))\n",
    "#    current_feat = features[i]\n",
    "#    for j in range(x.shape[0]):\n",
    "#        x_test = x[j,:].reshape(1,-1)\n",
    "#        x_train = np.delete(arr = x, obj = j, axis = 0)\n",
    "#        zero_var = np.where(x_train.var(axis = 0) == 0)[0]\n",
    "#        x_train = np.delete(arr = x_train, obj = zero_var, axis = 1)\n",
    "#        x_test = np.delete(arr = x_test, obj = zero_var, axis = 1)\n",
    "#        scaler = StandardScaler()\n",
    "#        scaler.fit(x_train)\n",
    "#        x_train_scaled = scaler.transform(x_train)\n",
    "#        x_test_scaled = scaler.transform(x_test)\n",
    "#        y_test = y[j]\n",
    "#        y_train = np.delete(arr = y, obj = j, axis = 0)\n",
    "#        classifier = SVC(C=0.01,\n",
    "#                         random_state=42,\n",
    "#                         probability=True,\n",
    "#                         kernel='linear')\n",
    "#        classifier.fit(x_train_scaled, y_train)\n",
    "#        y_pred = classifier.predict_proba(x_test)[0][1]\n",
    "#        yout_compiled[j] = y_test, y_pred\n",
    "#    #Calculate AUROC\n",
    "#    fpr, tpr, thresholds = roc_curve(yout_compiled.T[0], yout_compiled.T[1])\n",
    "#    roc_auc = auc(fpr, tpr)\n",
    "#    print(i, current_feat, roc_auc)\n",
    "#    temp = pd.DataFrame(yout_compiled)\n",
    "#    temp.columns = [current_feat+'*true',current_feat+'*pred']\n",
    "#    temp2 = pd.DataFrame([current_feat, roc_auc]).T\n",
    "#    full_preds = pd.concat([full_preds, temp], axis = 1)\n",
    "#    pred_auroc = pd.concat([pred_auroc, temp2], axis = 0)\n",
    "#    \n",
    "#full_preds.to_csv(\"./ohe_features/ohe_svc_preds.csv\")\n",
    "#pred_auroc.to_csv(\"./ohe_features/ohe_svc_auroc.csv\")"
   ]
  },
  {
   "cell_type": "code",
   "execution_count": 70,
   "id": "cc4355ef",
   "metadata": {},
   "outputs": [
    {
     "name": "stdout",
     "output_type": "stream",
     "text": [
      "(448, 2)\n"
     ]
    }
   ],
   "source": [
    "full_preds = pd.read_csv(\"./ohe_features/ohe_svc_preds.csv\", index_col = 0)\n",
    "pred_auroc = pd.read_csv(\"./ohe_features/ohe_svc_auroc.csv\", index_col = 0)\n",
    "pred_auroc.columns = ['feature', 'auroc']\n",
    "sig_pred_auroc = pred_auroc[pred_auroc['auroc'] > 0.5]\n",
    "print(sig_pred_auroc.shape)\n",
    "#(448, 2)"
   ]
  },
  {
   "cell_type": "code",
   "execution_count": 71,
   "id": "c70cbe2c",
   "metadata": {},
   "outputs": [],
   "source": [
    "opt_ohe = tested_odor_desc_decorr2[sig_pred_auroc['feature'].values]"
   ]
  },
  {
   "cell_type": "code",
   "execution_count": 72,
   "id": "c8507b06",
   "metadata": {},
   "outputs": [],
   "source": [
    "opt_ohe_dict = {}\n",
    "\n",
    "for feature in opt_ohe.columns:\n",
    "    feature_split = feature.split('_')\n",
    "    feature_name = '_'.join(feature_split[:-1])\n",
    "    feature_value = feature_split[-1:][0]\n",
    "    if feature_name not in opt_ohe_dict:\n",
    "        opt_ohe_dict[feature_name] = []\n",
    "    opt_ohe_dict[feature_name].append(feature_value)"
   ]
  },
  {
   "cell_type": "code",
   "execution_count": 73,
   "id": "da4dd22b",
   "metadata": {},
   "outputs": [],
   "source": [
    "opt_ohe_dict2 = {}\n",
    "\n",
    "for feature in opt_ohe_dict:\n",
    "    if len(opt_ohe_dict[feature]) == 1:\n",
    "        opt_ohe_dict2[feature] = opt_ohe_dict[feature]\n",
    "    if len(opt_ohe_dict[feature]) == 2:\n",
    "        if '0.0' in opt_ohe_dict[feature]:\n",
    "            values = opt_ohe_dict[feature]\n",
    "            for number in values:\n",
    "                if number != '0.0':\n",
    "                    opt_ohe_dict2[feature] = []\n",
    "                    opt_ohe_dict2[feature].append(number)\n",
    "        else:\n",
    "            opt_ohe_dict2[feature] = opt_ohe_dict[feature]\n",
    "    else:\n",
    "        opt_ohe_dict2[feature] = opt_ohe_dict[feature]"
   ]
  },
  {
   "cell_type": "code",
   "execution_count": 74,
   "id": "28292771",
   "metadata": {},
   "outputs": [],
   "source": [
    "ohe_df = pd.DataFrame()\n",
    "\n",
    "for f in opt_ohe_dict2:\n",
    "    for f_value in opt_ohe_dict2[f]:\n",
    "        f_f_value = '_'.join([f, str(f_value)])\n",
    "        data_vector = tested_odor_desc_decorr2[f_f_value]\n",
    "        ohe_df = pd.concat([ohe_df, data_vector], axis = 1)"
   ]
  },
  {
   "cell_type": "code",
   "execution_count": 75,
   "id": "d6a1e358",
   "metadata": {},
   "outputs": [],
   "source": [
    "def remove_corr_feats2(input_df):\n",
    "    dropped_features = np.empty(shape = (0,), dtype = object)\n",
    "    dropped_correlates_concat = np.empty(shape = (0,2), dtype = object)\n",
    "    input_arr = np.array(input_df)\n",
    "    feature_names = np.array(input_df.columns)\n",
    "    odor_cid = np.array(input_df.index)\n",
    "    feature_corr_dist = pdist(input_arr.T, metric='correlation')\n",
    "    corr_feat_count = np.where(feature_corr_dist==2)[0]\n",
    "    while len(corr_feat_count) != 0:\n",
    "        pw_comparisons = np.triu_indices(len(feature_names), 1)\n",
    "        indices_to_drop = pw_comparisons[1][np.where(feature_corr_dist == 2)[0]]\n",
    "        features_to_drop = np.unique(feature_names[indices_to_drop])\n",
    "        dropped_features = np.concatenate((dropped_features, features_to_drop))\n",
    "        dropped_correlates = np.stack((feature_names[pw_comparisons[0][np.where(feature_corr_dist == 2)]], \n",
    "                                       feature_names[pw_comparisons[1][np.where(feature_corr_dist == 2)]]),\n",
    "                                       axis = 1)\n",
    "        dropped_correlates_concat = np.concatenate((dropped_correlates_concat, dropped_correlates))\n",
    "        unique_indices_to_drop = np.where(np.in1d(feature_names, features_to_drop))[0]\n",
    "        input_arr = np.delete(input_arr, unique_indices_to_drop, axis = 1)\n",
    "        feature_names = np.delete(feature_names, unique_indices_to_drop)\n",
    "        input_df = pd.DataFrame(input_arr)\n",
    "        input_df.columns = feature_names\n",
    "        input_df.index = odor_cid\n",
    "        input_arr = np.array(input_df)\n",
    "        feature_names = np.array(input_df.columns)\n",
    "        odor_cid = np.array(input_df.index)\n",
    "        feature_corr_dist = pdist(input_arr.T, metric='correlation')\n",
    "        corr_feat_count = np.where(feature_corr_dist ==2)[0]\n",
    "    output_df = input_df.copy(deep=True)\n",
    "    return output_df, dropped_features, dropped_correlates_concat"
   ]
  },
  {
   "cell_type": "code",
   "execution_count": 76,
   "id": "8189acd2",
   "metadata": {},
   "outputs": [],
   "source": [
    "opt_desc, dropped_corr, corrs = remove_corr_feats(ohe_df)"
   ]
  },
  {
   "cell_type": "code",
   "execution_count": 77,
   "id": "41dae50c",
   "metadata": {},
   "outputs": [
    {
     "name": "stdout",
     "output_type": "stream",
     "text": [
      "(52, 367)\n"
     ]
    }
   ],
   "source": [
    "opt_desc2, dropped_anti_corr, anti_corrs = remove_corr_feats2(opt_desc)\n",
    "print(opt_desc2.shape)\n",
    "#(52, 367)"
   ]
  },
  {
   "cell_type": "code",
   "execution_count": 78,
   "id": "b0c23091",
   "metadata": {},
   "outputs": [],
   "source": [
    "corr_mat = opt_desc2.corr()\n",
    "corr_mat = corr_mat.reset_index().melt('index')\n",
    "\n",
    "perf_corrs = corr_mat[corr_mat['value'] == 1]\n",
    "perf_corrs = perf_corrs[perf_corrs['index'] != perf_corrs['variable']]\n",
    "perf_corrs = perf_corrs.reset_index(drop=True)"
   ]
  },
  {
   "cell_type": "code",
   "execution_count": 79,
   "id": "4997b8f6",
   "metadata": {},
   "outputs": [],
   "source": [
    "perf_corrs_noV = perf_corrs.drop('value', axis = 1)\n",
    "perf_corrs_noV2 = pd.DataFrame()\n",
    "\n",
    "for row in range(perf_corrs_noV.shape[0]):\n",
    "    vec1 = pd.DataFrame(perf_corrs_noV.iloc[row,:].sort_values().reset_index(drop=True)).T\n",
    "    perf_corrs_noV2 = pd.concat([perf_corrs_noV2, vec1], axis = 0)\n",
    "\n",
    "perf_corrs_noV2['value'] = perf_corrs['value']\n",
    "perf_corrs = perf_corrs_noV2.drop_duplicates()\n",
    "opt_desc2 = opt_desc2.drop(perf_corrs[1].unique(), axis = 1)"
   ]
  },
  {
   "cell_type": "code",
   "execution_count": 80,
   "id": "21599d1a",
   "metadata": {},
   "outputs": [
    {
     "name": "stdout",
     "output_type": "stream",
     "text": [
      "(52, 321)\n"
     ]
    }
   ],
   "source": [
    "print(opt_desc2.shape)\n",
    "#(52, 321)"
   ]
  },
  {
   "cell_type": "code",
   "execution_count": 130,
   "id": "f8d62b42",
   "metadata": {},
   "outputs": [],
   "source": [
    "#opt_desc2.to_csv(\"./ohe_features/optimized_desc_svc_ohe.csv\")"
   ]
  },
  {
   "cell_type": "markdown",
   "id": "9d6ababb",
   "metadata": {},
   "source": [
    "# Setup SVC outcome for plotting"
   ]
  },
  {
   "cell_type": "code",
   "execution_count": 10,
   "id": "7f54ade9",
   "metadata": {},
   "outputs": [],
   "source": [
    "#svc_predictions = pd.read_csv(\"./ohe_features/ohe_svc_preds.csv\", index_col = 0)\n",
    "#svc_auroc = pd.read_csv(\"./ohe_features/ohe_svc_auroc.csv\", index_col = 0)\n",
    "#\n",
    "#compile_feat_predictions = pd.DataFrame()\n",
    "#for i in range(0,svc_predictions.shape[1],2):\n",
    "#    feat_name = svc_predictions.iloc[:,i].name\n",
    "#    feat_name = feat_name.removesuffix(\"*true\")\n",
    "#    true_val = svc_predictions.iloc[:,i].values\n",
    "#    pred_val = svc_predictions.iloc[:,i+1].values\n",
    "#    temp_df = pd.DataFrame([true_val, pred_val]).transpose()\n",
    "#    temp_df['feature'] = feat_name\n",
    "#    compile_feat_predictions = pd.concat([compile_feat_predictions, temp_df])\n",
    "#compile_feat_predictions.columns = ['true','prediction','feature']\n",
    "#compile_feat_predictions = compile_feat_predictions.reset_index(drop=True)\n",
    "#compile_feat_predictions.to_csv(\"./ohe_features/ohe_svc_preds_long.csv\")"
   ]
  },
  {
   "cell_type": "markdown",
   "id": "372247ef",
   "metadata": {},
   "source": [
    "# Calculate distances with optimized descriptors"
   ]
  },
  {
   "cell_type": "code",
   "execution_count": 15,
   "id": "3e09507f",
   "metadata": {},
   "outputs": [],
   "source": [
    "#Center-scale function for pandas\n",
    "def normalize(x):\n",
    "    return (x - x.mean())/(x - x.mean()).std()"
   ]
  },
  {
   "cell_type": "code",
   "execution_count": 16,
   "id": "a85f7331",
   "metadata": {},
   "outputs": [],
   "source": [
    "##Load data\n",
    "#tested_odor_desc = pd.read_csv(\"./ohe_features/optimized_desc_svc_ohe.csv\", index_col = 0)\n",
    "#tested_odor_resp = pd.read_csv(\"./compiled_desc_resp/compiled_odor_sigResp_wide.csv\", index_col = 0)\n",
    "##Normalize data\n",
    "#norm_tested_odor_desc = tested_odor_desc.transform(normalize)\n",
    "#norm_tested_odor_resp = tested_odor_resp.transform(normalize)\n",
    "##Calculate distances\n",
    "#odor_combns2 = pd.DataFrame(itertools.combinations(list(tested_odor_resp.index), 2))\n",
    "#norm_tested_resp_dist_euc = pd.DataFrame(pdist(norm_tested_odor_resp, 'euclidean'))\n",
    "#norm_tested_desc_dist_euc = pd.DataFrame(pdist(norm_tested_odor_desc, 'euclidean'))\n",
    "#norm_tested_resp_dist_corr = pd.DataFrame(pdist(norm_tested_odor_resp, 'correlation'))\n",
    "#norm_tested_desc_dist_corr = pd.DataFrame(pdist(norm_tested_odor_desc, 'correlation'))\n",
    "#norm_tested_resp_dist_cos = pd.DataFrame(pdist(norm_tested_odor_resp, 'cosine'))\n",
    "#norm_tested_desc_dist_cos = pd.DataFrame(pdist(norm_tested_odor_desc, 'cosine'))\n",
    "##Combine distances\n",
    "#compiled_distances = pd.concat([odor_combns2, norm_tested_resp_dist_euc,\n",
    "#                                norm_tested_desc_dist_euc,norm_tested_resp_dist_corr,\n",
    "#                                norm_tested_desc_dist_corr,norm_tested_resp_dist_cos,\n",
    "#                                norm_tested_desc_dist_cos], axis = 1)\n",
    "#compiled_distances.columns = ['odor1','odor2',\n",
    "#                              'response_euc_distance','feature_euc_distance',\n",
    "#                              'response_corr_distance','feature_corr_distance',\n",
    "#                              'response_cos_distance','feature_cos_distance']\n",
    "#compiled_distances.to_csv(\"./ohe_features/ohe_optimized_descriptors_distances.csv\")\n",
    "opt_compiled_distances = pd.read_csv(\"./ohe_features/ohe_optimized_descriptors_distances.csv\", index_col = 0)\n"
   ]
  },
  {
   "cell_type": "code",
   "execution_count": 18,
   "id": "ebdef5df",
   "metadata": {},
   "outputs": [],
   "source": []
  },
  {
   "cell_type": "code",
   "execution_count": null,
   "id": "26baa565",
   "metadata": {},
   "outputs": [],
   "source": []
  },
  {
   "cell_type": "code",
   "execution_count": null,
   "id": "8d3e8223",
   "metadata": {},
   "outputs": [],
   "source": []
  },
  {
   "cell_type": "code",
   "execution_count": null,
   "id": "1fd3e78e",
   "metadata": {},
   "outputs": [],
   "source": []
  },
  {
   "cell_type": "code",
   "execution_count": null,
   "id": "5957dacc",
   "metadata": {},
   "outputs": [],
   "source": []
  },
  {
   "cell_type": "code",
   "execution_count": null,
   "id": "a0a9fec4",
   "metadata": {},
   "outputs": [],
   "source": []
  }
 ],
 "metadata": {
  "kernelspec": {
   "display_name": "Python 3 (ipykernel)",
   "language": "python",
   "name": "python3"
  },
  "language_info": {
   "codemirror_mode": {
    "name": "ipython",
    "version": 3
   },
   "file_extension": ".py",
   "mimetype": "text/x-python",
   "name": "python",
   "nbconvert_exporter": "python",
   "pygments_lexer": "ipython3",
   "version": "3.9.7"
  }
 },
 "nbformat": 4,
 "nbformat_minor": 5
}
