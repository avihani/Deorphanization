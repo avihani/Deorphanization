{
 "cells": [
  {
   "cell_type": "code",
   "execution_count": 1,
   "metadata": {},
   "outputs": [
    {
     "name": "stdout",
     "output_type": "stream",
     "text": [
      "1.3.3\n",
      "1.21.2\n"
     ]
    }
   ],
   "source": [
    "import pandas as pd\n",
    "import numpy as np\n",
    "import os\n",
    "\n",
    "print(pd.__version__)\n",
    "print(np.__version__)\n",
    "\n",
    "os.chdir(\"./seq_preprocess\")"
   ]
  },
  {
   "cell_type": "code",
   "execution_count": 163,
   "metadata": {},
   "outputs": [],
   "source": [
    "counts_data = pd.read_csv(\"./compiledExpectedCounts_allGene.csv\", index_col = 0)\n",
    "biomart = pd.read_csv(\"./biomart_eID_symbol.csv\", index_col = 0)\n",
    "mm_name = pd.read_csv(\"./mm_symbol_name.csv\", index_col = 0)"
   ]
  },
  {
   "cell_type": "code",
   "execution_count": 174,
   "metadata": {},
   "outputs": [],
   "source": [
    "eID = counts_data.index.values.tolist()\n",
    "eID = [i.split('.', 1)[0] for i in eID]\n",
    "eID_compile = pd.DataFrame(eID, columns = ['eID'])"
   ]
  },
  {
   "cell_type": "code",
   "execution_count": null,
   "metadata": {},
   "outputs": [],
   "source": [
    "eID_sym_name = pd.DataFrame()\n",
    "\n",
    "for i in range(eID_compile.shape[0]):\n",
    "    eID = eID_compile.iloc[i,:].values[0]\n",
    "    if len(biomart[biomart.loc[:,'ensembl_gene_id'] == eID]['mgi_symbol'].values) > 0:\n",
    "        sym = biomart[biomart.loc[:,'ensembl_gene_id'] == eID]['mgi_symbol'].values[0]\n",
    "    else:\n",
    "        sym = 'no_symbol'\n",
    "    if len(mm_name[mm_name['symbol'] == sym]['gene_name'].values) > 0:\n",
    "        name = mm_name[mm_name['symbol'] == sym]['gene_name'].values[0]\n",
    "    else:\n",
    "        name = 'no_name'\n",
    "    eID_sym_name = pd.concat([eID_sym_name, pd.DataFrame([eID, sym, name]).transpose()], axis = 0)\n",
    "    "
   ]
  },
  {
   "cell_type": "code",
   "execution_count": 291,
   "metadata": {},
   "outputs": [],
   "source": [
    "#eID_sym_name.to_csv(\"./eID_sym_name.csv\")\n",
    "eID_sym_name = pd.read_csv(\"./eID_sym_name.csv\", index_col = 0)"
   ]
  }
 ],
 "metadata": {
  "kernelspec": {
   "display_name": "Python 3 (ipykernel)",
   "language": "python",
   "name": "python3"
  },
  "language_info": {
   "codemirror_mode": {
    "name": "ipython",
    "version": 3
   },
   "file_extension": ".py",
   "mimetype": "text/x-python",
   "name": "python",
   "nbconvert_exporter": "python",
   "pygments_lexer": "ipython3",
   "version": "3.9.7"
  }
 },
 "nbformat": 4,
 "nbformat_minor": 4
}
